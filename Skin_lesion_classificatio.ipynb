{
  "nbformat": 4,
  "nbformat_minor": 0,
  "metadata": {
    "colab": {
      "provenance": []
    },
    "kernelspec": {
      "name": "python3",
      "display_name": "Python 3"
    },
    "language_info": {
      "name": "python"
    },
    "accelerator": "GPU"
  },
  "cells": [
    {
      "cell_type": "code",
      "metadata": {
        "id": "Fl2TbNC_8VRZ",
        "colab": {
          "base_uri": "https://localhost:8080/"
        },
        "outputId": "936d945b-ea64-4632-dad0-d8ecb7258700"
      },
      "source": [
        "from google.colab import drive\n",
        "drive.mount('/content/drive')"
      ],
      "execution_count": null,
      "outputs": [
        {
          "output_type": "stream",
          "name": "stdout",
          "text": [
            "Drive already mounted at /content/drive; to attempt to forcibly remount, call drive.mount(\"/content/drive\", force_remount=True).\n"
          ]
        }
      ]
    },
    {
      "cell_type": "code",
      "metadata": {
        "id": "0fXCJD-wDSD4"
      },
      "source": [
        "#unzip -uq \"/content/drive/MyDrive/Dataset.zip\" -d \"/content/drive/MyDrive/\""
      ],
      "execution_count": null,
      "outputs": []
    },
    {
      "cell_type": "code",
      "source": [
        "%reset"
      ],
      "metadata": {
        "colab": {
          "base_uri": "https://localhost:8080/"
        },
        "id": "bkBVn8ew8SHe",
        "outputId": "291768f5-2f61-4856-82ea-a5142094c72d"
      },
      "execution_count": null,
      "outputs": [
        {
          "name": "stdout",
          "output_type": "stream",
          "text": [
            "Once deleted, variables cannot be recovered. Proceed (y/[n])? y\n"
          ]
        }
      ]
    },
    {
      "cell_type": "code",
      "metadata": {
        "id": "IfURusoXDTfr"
      },
      "source": [
        "import tensorflow as tf\n",
        "import tensorflow_hub as hub\n",
        "import os\n",
        "from keras.models import Sequential\n",
        "from tensorflow.keras.layers import Dense\n",
        "from tensorflow.keras.layers import Flatten\n",
        "from tensorflow.keras.layers import Conv2D\n",
        "from tensorflow.keras.layers import Dropout\n",
        "from tensorflow.keras.preprocessing.image import ImageDataGenerator\n",
        "from tensorflow.keras.optimizers import Adam\n",
        "from tensorflow.keras import layers\n",
        "from tensorflow.keras.layers import BatchNormalization, Dropout\n",
        "from tensorflow.keras.regularizers import l2\n",
        "from tensorflow.keras.models import Model\n",
        "from tensorflow.keras.callbacks import EarlyStopping\n",
        "import matplotlib.pylab as plt\n",
        "import numpy as np\n",
        "from sklearn.metrics import classification_report, confusion_matrix\n",
        "import pandas as pd\n",
        "import seaborn as sn\n"
      ],
      "execution_count": null,
      "outputs": []
    },
    {
      "cell_type": "code",
      "metadata": {
        "id": "EMcYyxx0DVSo"
      },
      "source": [
        "train_dir='/content/drive/MyDrive/Dataset'"
      ],
      "execution_count": null,
      "outputs": []
    },
    {
      "cell_type": "code",
      "metadata": {
        "id": "Ktn0SkgXDXP8"
      },
      "source": [
        "Labels = ['Benign', 'Malignant']"
      ],
      "execution_count": null,
      "outputs": []
    },
    {
      "cell_type": "code",
      "metadata": {
        "colab": {
          "base_uri": "https://localhost:8080/"
        },
        "id": "ubSv3rnyDZBE",
        "outputId": "cf9dec39-dbcd-4f99-f21b-fb921263c37a"
      },
      "source": [
        "print (\"class : \") \n",
        "for i in range(len(Labels)): \n",
        "    print (i, end = \" \") \n",
        "    print (Labels[i]) "
      ],
      "execution_count": null,
      "outputs": [
        {
          "output_type": "stream",
          "name": "stdout",
          "text": [
            "class : \n",
            "0 Benign\n",
            "1 Malignant\n"
          ]
        }
      ]
    },
    {
      "cell_type": "code",
      "metadata": {
        "colab": {
          "base_uri": "https://localhost:8080/"
        },
        "id": "LkVtS4TkDarf",
        "outputId": "1f6e3f09-e299-4454-f5b3-ba4a5835b529"
      },
      "source": [
        "print('Number of classes:',len(Labels))"
      ],
      "execution_count": null,
      "outputs": [
        {
          "output_type": "stream",
          "name": "stdout",
          "text": [
            "Number of classes: 2\n"
          ]
        }
      ]
    },
    {
      "cell_type": "code",
      "source": [],
      "metadata": {
        "id": "exW_Xb8sT2AB"
      },
      "execution_count": null,
      "outputs": []
    },
    {
      "cell_type": "markdown",
      "source": [
        "Here we are using efficientnetv2 instead of mobilenet"
      ],
      "metadata": {
        "id": "txekunHGT2bZ"
      }
    },
    {
      "cell_type": "code",
      "metadata": {
        "id": "GXdEgAj5DcBL"
      },
      "source": [
        "module_selection = (\"efficientnetv2-s-21k\", 224, 1280) \n",
        "handle_base, pixels, FV_SIZE = module_selection\n",
        "MODULE_HANDLE =\"https://tfhub.dev/google/imagenet/efficientnet_v2_imagenet21k_s/classification/2\"\n",
        "IMAGE_SIZE = (pixels, pixels)\n",
        "BATCH_SIZE = 16"
      ],
      "execution_count": null,
      "outputs": []
    },
    {
      "cell_type": "code",
      "metadata": {
        "colab": {
          "base_uri": "https://localhost:8080/"
        },
        "id": "fYNXTeVj-K_w",
        "outputId": "345a4008-c008-4b5c-afea-8b4ab2ec1cf3"
      },
      "source": [
        "IMAGE_SIZE"
      ],
      "execution_count": null,
      "outputs": [
        {
          "output_type": "execute_result",
          "data": {
            "text/plain": [
              "(224, 224)"
            ]
          },
          "metadata": {},
          "execution_count": 79
        }
      ]
    },
    {
      "cell_type": "code",
      "source": [
        "# Here we are going to use a bigger data augmentation that in the original project :\n",
        "# We are gonna add brightness range, Vertical Flip."
      ],
      "metadata": {
        "id": "ChAieOt0T8vZ"
      },
      "execution_count": null,
      "outputs": []
    },
    {
      "cell_type": "code",
      "metadata": {
        "colab": {
          "base_uri": "https://localhost:8080/"
        },
        "id": "JAGIZTBfDdcJ",
        "outputId": "ae45d681-29bd-4867-f4aa-b6d9c421bac5"
      },
      "source": [
        "# Here in the data augmentation, we have added horizontal_flip and brightness range \n",
        "train_datagen = tf.keras.preprocessing.image.ImageDataGenerator(\n",
        "      rescale = 1./255,\n",
        "      rotation_range=40,\n",
        "      horizontal_flip=True,\n",
        "      vertical_flip = True,\n",
        "      width_shift_range=0.2,\n",
        "      brightness_range = [0.5,1.2], \n",
        "      height_shift_range=0.2,\n",
        "      shear_range=0.2, \n",
        "      zoom_range=0.2,\n",
        "      fill_mode='nearest',\n",
        "      validation_split=0.4)\n",
        "  \n",
        "train_generator = train_datagen.flow_from_directory(\n",
        "    train_dir, \n",
        "    subset=\"training\", \n",
        "    shuffle=True, \n",
        "    seed=42,\n",
        "    color_mode=\"rgb\", \n",
        "    class_mode=\"categorical\",\n",
        "    target_size=IMAGE_SIZE,\n",
        "    batch_size=BATCH_SIZE)\n",
        "\n",
        "validation_generator = train_datagen.flow_from_directory(\n",
        "    train_dir, \n",
        "    shuffle=False, \n",
        "    seed=42,\n",
        "    color_mode=\"rgb\", \n",
        "    class_mode=\"categorical\",\n",
        "    subset=\"validation\",\n",
        "    target_size=IMAGE_SIZE,\n",
        "    batch_size=BATCH_SIZE) "
      ],
      "execution_count": null,
      "outputs": [
        {
          "output_type": "stream",
          "name": "stdout",
          "text": [
            "Found 24 images belonging to 2 classes.\n",
            "Found 16 images belonging to 2 classes.\n"
          ]
        }
      ]
    },
    {
      "cell_type": "code",
      "metadata": {
        "colab": {
          "base_uri": "https://localhost:8080/"
        },
        "id": "MHw7IFhLDhzn",
        "outputId": "8a631fa0-baa6-4893-f769-3e3bef96f11b"
      },
      "source": [
        "feature_extractor = hub.KerasLayer(MODULE_HANDLE,input_shape=IMAGE_SIZE+(3,), output_shape=[FV_SIZE])\n",
        "print(\"Building model with\", MODULE_HANDLE)\n",
        "base_model = tf.keras.Sequential([\n",
        "    feature_extractor,\n",
        "    tf.keras.layers.Flatten(),\n",
        "    tf.keras.layers.Dense(512, activation='relu'),\n",
        "    tf.keras.layers.Dropout(rate=0.2),\n",
        "    tf.keras.layers.Dense(train_generator.num_classes, activation='softmax',\n",
        "                           kernel_regularizer=tf.keras.regularizers.l2(0.0001))\n",
        "])\n",
        "print('Frozen model')\n",
        "base_model.summary()\n",
        "feature_extractor.trainable = True\n",
        "for layer in base_model.layers:\n",
        "  layer.trainable =True\n",
        "\n",
        "print('''\n",
        "\n",
        "\n",
        "''')\n",
        "print('Model After unfreezing')\n",
        "base_model.summary()\n"
      ],
      "execution_count": null,
      "outputs": [
        {
          "output_type": "stream",
          "name": "stdout",
          "text": [
            "Building model with https://tfhub.dev/google/imagenet/efficientnet_v2_imagenet21k_s/classification/2\n",
            "Frozen model\n",
            "Model: \"sequential_6\"\n",
            "_________________________________________________________________\n",
            " Layer (type)                Output Shape              Param #   \n",
            "=================================================================\n",
            " keras_layer_6 (KerasLayer)  (None, 21843)             48312243  \n",
            "                                                                 \n",
            " flatten_6 (Flatten)         (None, 21843)             0         \n",
            "                                                                 \n",
            " dense_12 (Dense)            (None, 512)               11184128  \n",
            "                                                                 \n",
            " dropout_6 (Dropout)         (None, 512)               0         \n",
            "                                                                 \n",
            " dense_13 (Dense)            (None, 2)                 1026      \n",
            "                                                                 \n",
            "=================================================================\n",
            "Total params: 59,497,397\n",
            "Trainable params: 11,185,154\n",
            "Non-trainable params: 48,312,243\n",
            "_________________________________________________________________\n",
            "\n",
            "\n",
            "\n",
            "\n",
            "Model After unfreezing\n",
            "Model: \"sequential_6\"\n",
            "_________________________________________________________________\n",
            " Layer (type)                Output Shape              Param #   \n",
            "=================================================================\n",
            " keras_layer_6 (KerasLayer)  (None, 21843)             48312243  \n",
            "                                                                 \n",
            " flatten_6 (Flatten)         (None, 21843)             0         \n",
            "                                                                 \n",
            " dense_12 (Dense)            (None, 512)               11184128  \n",
            "                                                                 \n",
            " dropout_6 (Dropout)         (None, 512)               0         \n",
            "                                                                 \n",
            " dense_13 (Dense)            (None, 2)                 1026      \n",
            "                                                                 \n",
            "=================================================================\n",
            "Total params: 59,497,397\n",
            "Trainable params: 59,343,525\n",
            "Non-trainable params: 153,872\n",
            "_________________________________________________________________\n"
          ]
        }
      ]
    },
    {
      "cell_type": "code",
      "source": [
        "# Same but for Frozen model \n",
        "feature_extractor = hub.KerasLayer(MODULE_HANDLE,input_shape=IMAGE_SIZE+(3,), output_shape=[FV_SIZE])\n",
        "print(\"Building model with\", MODULE_HANDLE)\n",
        "base_model = tf.keras.Sequential([\n",
        "    feature_extractor,\n",
        "    tf.keras.layers.Flatten(),\n",
        "    tf.keras.layers.Dense(512, activation='relu'),\n",
        "    tf.keras.layers.Dropout(rate=0.2),\n",
        "    tf.keras.layers.Dense(train_generator.num_classes, activation='softmax',\n",
        "                           kernel_regularizer=tf.keras.regularizers.l2(0.0001))\n",
        "])\n",
        "feature_extractor.trainable = False"
      ],
      "metadata": {
        "colab": {
          "base_uri": "https://localhost:8080/"
        },
        "id": "4N2YUk56Anqu",
        "outputId": "0c6d2ff7-6dd1-49a2-b8e7-13d27e68d91f"
      },
      "execution_count": null,
      "outputs": [
        {
          "output_type": "stream",
          "name": "stdout",
          "text": [
            "Building model with https://tfhub.dev/google/imagenet/efficientnet_v2_imagenet21k_s/classification/2\n"
          ]
        }
      ]
    },
    {
      "cell_type": "code",
      "source": [
        "base_model.summary()"
      ],
      "metadata": {
        "colab": {
          "base_uri": "https://localhost:8080/"
        },
        "id": "ycTW1FxHAyYj",
        "outputId": "25739930-7b14-4400-ef38-89194733e58b"
      },
      "execution_count": null,
      "outputs": [
        {
          "output_type": "stream",
          "name": "stdout",
          "text": [
            "Model: \"sequential_7\"\n",
            "_________________________________________________________________\n",
            " Layer (type)                Output Shape              Param #   \n",
            "=================================================================\n",
            " keras_layer_7 (KerasLayer)  (None, 21843)             48312243  \n",
            "                                                                 \n",
            " flatten_7 (Flatten)         (None, 21843)             0         \n",
            "                                                                 \n",
            " dense_14 (Dense)            (None, 512)               11184128  \n",
            "                                                                 \n",
            " dropout_7 (Dropout)         (None, 512)               0         \n",
            "                                                                 \n",
            " dense_15 (Dense)            (None, 2)                 1026      \n",
            "                                                                 \n",
            "=================================================================\n",
            "Total params: 59,497,397\n",
            "Trainable params: 11,185,154\n",
            "Non-trainable params: 48,312,243\n",
            "_________________________________________________________________\n"
          ]
        }
      ]
    },
    {
      "cell_type": "markdown",
      "source": [
        "The original model had only 11,185,154 trainable parameters, now we have 59,343,525. "
      ],
      "metadata": {
        "id": "bcu1f1eo2ggh"
      }
    },
    {
      "cell_type": "code",
      "source": [
        "#from efficientnet.tfkeras import EfficientNetB2\n",
        "\n",
        "\n",
        "# Get the input layer of the pre-trained model\n",
        "inputs = base_model.input\n",
        "\n",
        "# Add batch normalization layer as the first layer\n",
        "x = BatchNormalization()(inputs)\n",
        "\n",
        "# Add the rest of the layers of the pre-trained model\n",
        "x = base_model(x)\n",
        "# Create a weight decay regularizer\n",
        "weight_decay = 1e-5\n",
        "reg = l2(weight_decay)\n",
        "\n",
        "#Add weight decay to all layers in the model\n",
        "for layer in base_model.layers:\n",
        "  if hasattr(layer, 'kernel_regularizer'):\n",
        "        layer.kernel_regularizer = reg\n",
        "\n",
        "model = Model(inputs, x)\n",
        "# Create an early stopping callback, since our dataset is really small, to observe the pertinence of the early stopping, we will set a patience to 15 and will work on 100 epochs.\n",
        "early_stopping = EarlyStopping(monitor='val_loss', patience=20)\n",
        "\n"
      ],
      "metadata": {
        "id": "IX0vgLqEdEPJ"
      },
      "execution_count": null,
      "outputs": []
    },
    {
      "cell_type": "code",
      "source": [
        "LEARNING_RATE = 0.001 \n",
        "base_model.compile(\n",
        "   optimizer=tf.keras.optimizers.Adam(learning_rate=LEARNING_RATE), \n",
        "   loss='categorical_crossentropy',\n",
        "   metrics=['accuracy'])"
      ],
      "metadata": {
        "id": "v_1Kilwh_-XZ"
      },
      "execution_count": null,
      "outputs": []
    },
    {
      "cell_type": "code",
      "source": [
        "# Compile the model and train it\n",
        "LEARNING_RATE = 0.001 \n",
        "base_model.compile(\n",
        "   optimizer=tf.keras.optimizers.Adam(learning_rate=LEARNING_RATE), \n",
        "   loss='categorical_crossentropy',\n",
        "   metrics=['accuracy'])\n"
      ],
      "metadata": {
        "id": "cnAiTdPSvMNb"
      },
      "execution_count": null,
      "outputs": []
    },
    {
      "cell_type": "markdown",
      "source": [
        "# Training for Frozen model"
      ],
      "metadata": {
        "id": "KqOr-6p52fmk"
      }
    },
    {
      "cell_type": "code",
      "source": [
        "EPOCHS=100\n",
        "\n",
        "history = base_model.fit(\n",
        "        train_generator,\n",
        "        steps_per_epoch=train_generator.samples//train_generator.batch_size,\n",
        "        epochs=EPOCHS,\n",
        "        validation_data=validation_generator,\n",
        "        validation_steps=validation_generator.samples//validation_generator.batch_size,\n",
        "        callbacks=[early_stopping])"
      ],
      "metadata": {
        "colab": {
          "base_uri": "https://localhost:8080/"
        },
        "id": "3qzD2HDqBA-f",
        "outputId": "2cc8faaf-ae4f-4879-c02f-bfc857233b44"
      },
      "execution_count": null,
      "outputs": [
        {
          "output_type": "stream",
          "name": "stdout",
          "text": [
            "Epoch 1/100\n",
            "1/1 [==============================] - 16s 16s/step - loss: 1.5297 - accuracy: 0.3750 - val_loss: 50.4775 - val_accuracy: 0.5000\n",
            "Epoch 2/100\n",
            "1/1 [==============================] - 1s 807ms/step - loss: 37.2356 - accuracy: 0.5000 - val_loss: 30.5103 - val_accuracy: 0.6250\n",
            "Epoch 3/100\n",
            "1/1 [==============================] - 3s 3s/step - loss: 14.2701 - accuracy: 0.6875 - val_loss: 25.5657 - val_accuracy: 0.6875\n",
            "Epoch 4/100\n",
            "1/1 [==============================] - 2s 2s/step - loss: 24.9805 - accuracy: 0.6875 - val_loss: 0.0095 - val_accuracy: 1.0000\n",
            "Epoch 5/100\n",
            "1/1 [==============================] - 1s 1s/step - loss: 3.8760e-04 - accuracy: 1.0000 - val_loss: 26.5917 - val_accuracy: 0.6250\n",
            "Epoch 6/100\n",
            "1/1 [==============================] - 1s 715ms/step - loss: 11.5341 - accuracy: 0.8750 - val_loss: 28.6358 - val_accuracy: 0.5000\n",
            "Epoch 7/100\n",
            "1/1 [==============================] - 1s 678ms/step - loss: 1.0054 - accuracy: 0.8750 - val_loss: 14.9888 - val_accuracy: 0.6875\n",
            "Epoch 8/100\n",
            "1/1 [==============================] - 1s 639ms/step - loss: 3.8079e-04 - accuracy: 1.0000 - val_loss: 8.0553 - val_accuracy: 0.7500\n",
            "Epoch 9/100\n",
            "1/1 [==============================] - 1s 640ms/step - loss: 0.0084 - accuracy: 1.0000 - val_loss: 23.1166 - val_accuracy: 0.6250\n",
            "Epoch 10/100\n",
            "1/1 [==============================] - 1s 774ms/step - loss: 0.2713 - accuracy: 0.9375 - val_loss: 0.2248 - val_accuracy: 0.9375\n",
            "Epoch 11/100\n",
            "1/1 [==============================] - 1s 1s/step - loss: 3.7516e-04 - accuracy: 1.0000 - val_loss: 6.0871 - val_accuracy: 0.6875\n",
            "Epoch 12/100\n",
            "1/1 [==============================] - 1s 629ms/step - loss: 3.7794e-04 - accuracy: 1.0000 - val_loss: 6.0816 - val_accuracy: 0.7500\n",
            "Epoch 13/100\n",
            "1/1 [==============================] - 1s 657ms/step - loss: 3.7202e-04 - accuracy: 1.0000 - val_loss: 5.3336 - val_accuracy: 0.7500\n",
            "Epoch 14/100\n",
            "1/1 [==============================] - 1s 854ms/step - loss: 3.7059e-04 - accuracy: 1.0000 - val_loss: 8.4639 - val_accuracy: 0.7500\n",
            "Epoch 15/100\n",
            "1/1 [==============================] - 1s 1s/step - loss: 9.2918 - accuracy: 0.8750 - val_loss: 3.2175 - val_accuracy: 0.8750\n",
            "Epoch 16/100\n",
            "1/1 [==============================] - 1s 1s/step - loss: 1.1017 - accuracy: 0.8750 - val_loss: 11.5560 - val_accuracy: 0.8125\n",
            "Epoch 17/100\n",
            "1/1 [==============================] - 1s 1s/step - loss: 3.8039e-04 - accuracy: 1.0000 - val_loss: 3.6535e-04 - val_accuracy: 1.0000\n",
            "Epoch 18/100\n",
            "1/1 [==============================] - 1s 844ms/step - loss: 4.7499 - accuracy: 0.9375 - val_loss: 5.3037 - val_accuracy: 0.8750\n",
            "Epoch 19/100\n",
            "1/1 [==============================] - 1s 1s/step - loss: 3.6418e-04 - accuracy: 1.0000 - val_loss: 17.7691 - val_accuracy: 0.8750\n",
            "Epoch 20/100\n",
            "1/1 [==============================] - 1s 1s/step - loss: 0.9989 - accuracy: 0.9375 - val_loss: 4.6697 - val_accuracy: 0.9375\n",
            "Epoch 21/100\n",
            "1/1 [==============================] - 1s 1s/step - loss: 3.6202e-04 - accuracy: 1.0000 - val_loss: 15.8920 - val_accuracy: 0.8125\n",
            "Epoch 22/100\n",
            "1/1 [==============================] - 1s 739ms/step - loss: 2.2179 - accuracy: 0.9375 - val_loss: 10.2240 - val_accuracy: 0.8750\n",
            "Epoch 23/100\n",
            "1/1 [==============================] - 1s 711ms/step - loss: 3.6010e-04 - accuracy: 1.0000 - val_loss: 2.9628 - val_accuracy: 0.8750\n",
            "Epoch 24/100\n",
            "1/1 [==============================] - 1s 716ms/step - loss: 2.0144 - accuracy: 0.9375 - val_loss: 4.5994 - val_accuracy: 0.8750\n",
            "Epoch 25/100\n",
            "1/1 [==============================] - 1s 962ms/step - loss: 3.5840e-04 - accuracy: 1.0000 - val_loss: 7.2768 - val_accuracy: 0.8750\n",
            "Epoch 26/100\n",
            "1/1 [==============================] - 1s 1s/step - loss: 3.5762e-04 - accuracy: 1.0000 - val_loss: 4.4727 - val_accuracy: 0.8750\n",
            "Epoch 27/100\n",
            "1/1 [==============================] - 1s 1s/step - loss: 3.3745 - accuracy: 0.8750 - val_loss: 7.2020 - val_accuracy: 0.9375\n",
            "Epoch 28/100\n",
            "1/1 [==============================] - 1s 661ms/step - loss: 3.5612e-04 - accuracy: 1.0000 - val_loss: 6.7708 - val_accuracy: 0.8750\n",
            "Epoch 29/100\n",
            "1/1 [==============================] - 1s 651ms/step - loss: 3.5541e-04 - accuracy: 1.0000 - val_loss: 6.6012 - val_accuracy: 0.8750\n",
            "Epoch 30/100\n",
            "1/1 [==============================] - 1s 743ms/step - loss: 5.4651 - accuracy: 0.8750 - val_loss: 5.4698 - val_accuracy: 0.6875\n",
            "Epoch 31/100\n",
            "1/1 [==============================] - 1s 667ms/step - loss: 3.5400e-04 - accuracy: 1.0000 - val_loss: 5.6792 - val_accuracy: 0.8750\n",
            "Epoch 32/100\n",
            "1/1 [==============================] - 1s 780ms/step - loss: 3.5331e-04 - accuracy: 1.0000 - val_loss: 5.6326 - val_accuracy: 0.7500\n",
            "Epoch 33/100\n",
            "1/1 [==============================] - 1s 1s/step - loss: 3.5265e-04 - accuracy: 1.0000 - val_loss: 10.7459 - val_accuracy: 0.8750\n",
            "Epoch 34/100\n",
            "1/1 [==============================] - 1s 806ms/step - loss: 3.5202e-04 - accuracy: 1.0000 - val_loss: 13.8336 - val_accuracy: 0.8125\n",
            "Epoch 35/100\n",
            "1/1 [==============================] - 1s 691ms/step - loss: 3.5142e-04 - accuracy: 1.0000 - val_loss: 13.7141 - val_accuracy: 0.8125\n",
            "Epoch 36/100\n",
            "1/1 [==============================] - 1s 689ms/step - loss: 8.8590e-04 - accuracy: 1.0000 - val_loss: 28.0414 - val_accuracy: 0.8125\n",
            "Epoch 37/100\n",
            "1/1 [==============================] - 1s 734ms/step - loss: 3.0249 - accuracy: 0.9375 - val_loss: 20.5236 - val_accuracy: 0.8125\n"
          ]
        }
      ]
    },
    {
      "cell_type": "code",
      "source": [],
      "metadata": {
        "id": "kmn9vVuNBBBL"
      },
      "execution_count": null,
      "outputs": []
    },
    {
      "cell_type": "code",
      "source": [],
      "metadata": {
        "id": "eSKC47TiBBEu"
      },
      "execution_count": null,
      "outputs": []
    },
    {
      "cell_type": "markdown",
      "source": [
        "# Training for Unfrozen model"
      ],
      "metadata": {
        "id": "QOx8gyyAh3Ln"
      }
    },
    {
      "cell_type": "code",
      "metadata": {
        "colab": {
          "base_uri": "https://localhost:8080/"
        },
        "id": "a6F66X8xDmMD",
        "outputId": "3c548390-2564-496f-9cff-6e3b6ed396cc"
      },
      "source": [
        "EPOCHS=100\n",
        "\n",
        "history = base_model.fit(\n",
        "        train_generator,\n",
        "        steps_per_epoch=train_generator.samples//train_generator.batch_size,\n",
        "        epochs=EPOCHS,\n",
        "        validation_data=validation_generator,\n",
        "        validation_steps=validation_generator.samples//validation_generator.batch_size,\n",
        "        callbacks=[early_stopping])"
      ],
      "execution_count": null,
      "outputs": [
        {
          "output_type": "stream",
          "name": "stdout",
          "text": [
            "Epoch 1/100\n",
            "1/1 [==============================] - 25s 25s/step - loss: 2.2291 - accuracy: 0.2500 - val_loss: 26.0293 - val_accuracy: 0.3750\n",
            "Epoch 2/100\n",
            "1/1 [==============================] - 1s 988ms/step - loss: 11.8440 - accuracy: 0.6250 - val_loss: 19.9278 - val_accuracy: 0.5625\n",
            "Epoch 3/100\n",
            "1/1 [==============================] - 1s 1s/step - loss: 38.8640 - accuracy: 0.6250 - val_loss: 69.1264 - val_accuracy: 0.5000\n",
            "Epoch 4/100\n",
            "1/1 [==============================] - 1s 1s/step - loss: 3.8287e-04 - accuracy: 1.0000 - val_loss: 111.8457 - val_accuracy: 0.5000\n",
            "Epoch 5/100\n",
            "1/1 [==============================] - 1s 1s/step - loss: 22.6154 - accuracy: 0.7500 - val_loss: 86.0354 - val_accuracy: 0.5000\n",
            "Epoch 6/100\n",
            "1/1 [==============================] - 1s 805ms/step - loss: 3.7808e-04 - accuracy: 1.0000 - val_loss: 55.4740 - val_accuracy: 0.5625\n",
            "Epoch 7/100\n",
            "1/1 [==============================] - 1s 796ms/step - loss: 0.0050 - accuracy: 1.0000 - val_loss: 44.1305 - val_accuracy: 0.5000\n",
            "Epoch 8/100\n",
            "1/1 [==============================] - 1s 707ms/step - loss: 3.7422e-04 - accuracy: 1.0000 - val_loss: 12.1601 - val_accuracy: 0.7500\n",
            "Epoch 9/100\n",
            "1/1 [==============================] - 1s 806ms/step - loss: 0.6912 - accuracy: 0.9375 - val_loss: 11.5664 - val_accuracy: 0.8125\n",
            "Epoch 10/100\n",
            "1/1 [==============================] - 1s 805ms/step - loss: 3.7128e-04 - accuracy: 1.0000 - val_loss: 8.6107 - val_accuracy: 0.8125\n",
            "Epoch 11/100\n",
            "1/1 [==============================] - 1s 797ms/step - loss: 3.7005e-04 - accuracy: 1.0000 - val_loss: 14.5360 - val_accuracy: 0.6875\n",
            "Epoch 12/100\n",
            "1/1 [==============================] - 1s 815ms/step - loss: 0.0682 - accuracy: 0.9375 - val_loss: 2.1273 - val_accuracy: 0.9375\n",
            "Epoch 13/100\n",
            "1/1 [==============================] - 1s 810ms/step - loss: 3.6875 - accuracy: 0.9375 - val_loss: 7.0661 - val_accuracy: 0.8750\n",
            "Epoch 14/100\n",
            "1/1 [==============================] - 1s 816ms/step - loss: 1.0940 - accuracy: 0.9375 - val_loss: 25.5933 - val_accuracy: 0.8750\n",
            "Epoch 15/100\n",
            "1/1 [==============================] - 1s 692ms/step - loss: 29.7929 - accuracy: 0.7500 - val_loss: 11.8317 - val_accuracy: 0.9375\n",
            "Epoch 16/100\n",
            "1/1 [==============================] - 1s 1s/step - loss: 3.6477e-04 - accuracy: 1.0000 - val_loss: 17.8863 - val_accuracy: 0.9375\n",
            "Epoch 17/100\n",
            "1/1 [==============================] - 1s 1s/step - loss: 3.6358e-04 - accuracy: 1.0000 - val_loss: 22.3871 - val_accuracy: 0.8750\n",
            "Epoch 18/100\n",
            "1/1 [==============================] - 1s 1s/step - loss: 9.7792 - accuracy: 0.8750 - val_loss: 24.2065 - val_accuracy: 0.8750\n",
            "Epoch 19/100\n",
            "1/1 [==============================] - 1s 683ms/step - loss: 5.1771e-04 - accuracy: 1.0000 - val_loss: 36.1645 - val_accuracy: 0.8125\n",
            "Epoch 20/100\n",
            "1/1 [==============================] - 1s 810ms/step - loss: 2.6711 - accuracy: 0.8750 - val_loss: 33.4311 - val_accuracy: 0.8125\n",
            "Epoch 21/100\n",
            "1/1 [==============================] - 1s 699ms/step - loss: 27.8850 - accuracy: 0.8750 - val_loss: 24.5675 - val_accuracy: 0.8125\n",
            "Epoch 22/100\n",
            "1/1 [==============================] - 1s 709ms/step - loss: 3.5828e-04 - accuracy: 1.0000 - val_loss: 12.5174 - val_accuracy: 0.8125\n",
            "Epoch 23/100\n",
            "1/1 [==============================] - 1s 823ms/step - loss: 4.3431 - accuracy: 0.9375 - val_loss: 10.1471 - val_accuracy: 0.9375\n",
            "Epoch 24/100\n",
            "1/1 [==============================] - 1s 816ms/step - loss: 12.9255 - accuracy: 0.8125 - val_loss: 13.7379 - val_accuracy: 0.8125\n",
            "Epoch 25/100\n",
            "1/1 [==============================] - 1s 684ms/step - loss: 10.1037 - accuracy: 0.8750 - val_loss: 17.8422 - val_accuracy: 0.8125\n",
            "Epoch 26/100\n",
            "1/1 [==============================] - 1s 797ms/step - loss: 3.5450e-04 - accuracy: 1.0000 - val_loss: 11.9886 - val_accuracy: 0.8125\n",
            "Epoch 27/100\n",
            "1/1 [==============================] - 1s 702ms/step - loss: 3.5369e-04 - accuracy: 1.0000 - val_loss: 7.8614 - val_accuracy: 0.8750\n",
            "Epoch 28/100\n",
            "1/1 [==============================] - 1s 850ms/step - loss: 3.5295e-04 - accuracy: 1.0000 - val_loss: 8.4145 - val_accuracy: 0.7500\n",
            "Epoch 29/100\n",
            "1/1 [==============================] - 1s 993ms/step - loss: 2.8379 - accuracy: 0.9375 - val_loss: 7.5580 - val_accuracy: 0.8750\n",
            "Epoch 30/100\n",
            "1/1 [==============================] - 1s 1s/step - loss: 3.5165e-04 - accuracy: 1.0000 - val_loss: 3.5107e-04 - val_accuracy: 1.0000\n",
            "Epoch 31/100\n",
            "1/1 [==============================] - 1s 1s/step - loss: 3.1627 - accuracy: 0.9375 - val_loss: 6.5492 - val_accuracy: 0.9375\n",
            "Epoch 32/100\n",
            "1/1 [==============================] - 1s 834ms/step - loss: 3.6528e-04 - accuracy: 1.0000 - val_loss: 13.1396 - val_accuracy: 0.8750\n",
            "Epoch 33/100\n",
            "1/1 [==============================] - 1s 688ms/step - loss: 12.4062 - accuracy: 0.7500 - val_loss: 3.4942e-04 - val_accuracy: 1.0000\n",
            "Epoch 34/100\n",
            "1/1 [==============================] - 1s 803ms/step - loss: 10.7016 - accuracy: 0.8750 - val_loss: 3.4882e-04 - val_accuracy: 1.0000\n",
            "Epoch 35/100\n",
            "1/1 [==============================] - 1s 802ms/step - loss: 3.4882e-04 - accuracy: 1.0000 - val_loss: 42.0005 - val_accuracy: 0.8750\n",
            "Epoch 36/100\n",
            "1/1 [==============================] - 1s 789ms/step - loss: 3.4828e-04 - accuracy: 1.0000 - val_loss: 3.7954 - val_accuracy: 0.9375\n",
            "Epoch 37/100\n",
            "1/1 [==============================] - 1s 819ms/step - loss: 3.4779e-04 - accuracy: 1.0000 - val_loss: 6.2435 - val_accuracy: 0.8750\n",
            "Epoch 38/100\n",
            "1/1 [==============================] - 1s 699ms/step - loss: 3.4733e-04 - accuracy: 1.0000 - val_loss: 53.4052 - val_accuracy: 0.8125\n",
            "Epoch 39/100\n",
            "1/1 [==============================] - 1s 836ms/step - loss: 18.8479 - accuracy: 0.8750 - val_loss: 4.8135 - val_accuracy: 0.9375\n",
            "Epoch 40/100\n",
            "1/1 [==============================] - 1s 800ms/step - loss: 3.4613e-04 - accuracy: 1.0000 - val_loss: 9.5498 - val_accuracy: 0.9375\n",
            "Epoch 41/100\n",
            "1/1 [==============================] - 1s 1s/step - loss: 3.4542e-04 - accuracy: 1.0000 - val_loss: 8.4460 - val_accuracy: 0.8750\n",
            "Epoch 42/100\n",
            "1/1 [==============================] - 1s 1s/step - loss: 3.4477e-04 - accuracy: 1.0000 - val_loss: 9.9397 - val_accuracy: 0.8750\n",
            "Epoch 43/100\n",
            "1/1 [==============================] - 1s 1s/step - loss: 52.2584 - accuracy: 0.6250 - val_loss: 3.8387e-04 - val_accuracy: 1.0000\n",
            "Epoch 44/100\n",
            "1/1 [==============================] - 1s 723ms/step - loss: 3.4318e-04 - accuracy: 1.0000 - val_loss: 3.4227e-04 - val_accuracy: 1.0000\n",
            "Epoch 45/100\n",
            "1/1 [==============================] - 1s 717ms/step - loss: 13.7948 - accuracy: 0.7500 - val_loss: 24.0221 - val_accuracy: 0.8750\n",
            "Epoch 46/100\n",
            "1/1 [==============================] - 1s 836ms/step - loss: 3.3404 - accuracy: 0.8750 - val_loss: 3.2448 - val_accuracy: 0.9375\n",
            "Epoch 47/100\n",
            "1/1 [==============================] - 1s 834ms/step - loss: 0.0021 - accuracy: 1.0000 - val_loss: 28.6288 - val_accuracy: 0.8125\n",
            "Epoch 48/100\n",
            "1/1 [==============================] - 1s 812ms/step - loss: 2.7268 - accuracy: 0.8125 - val_loss: 54.3534 - val_accuracy: 0.8125\n",
            "Epoch 49/100\n",
            "1/1 [==============================] - 1s 701ms/step - loss: 0.6908 - accuracy: 0.8750 - val_loss: 61.2606 - val_accuracy: 0.8125\n",
            "Epoch 50/100\n",
            "1/1 [==============================] - 1s 673ms/step - loss: 16.4946 - accuracy: 0.7500 - val_loss: 42.4097 - val_accuracy: 0.8125\n",
            "Epoch 51/100\n",
            "1/1 [==============================] - 1s 744ms/step - loss: 3.7187 - accuracy: 0.8750 - val_loss: 1.4288 - val_accuracy: 0.8750\n",
            "Epoch 52/100\n",
            "1/1 [==============================] - 1s 690ms/step - loss: 1.7601 - accuracy: 0.8750 - val_loss: 11.0870 - val_accuracy: 0.8125\n",
            "Epoch 53/100\n",
            "1/1 [==============================] - 1s 918ms/step - loss: 6.5877e-04 - accuracy: 1.0000 - val_loss: 37.1792 - val_accuracy: 0.5625\n",
            "Epoch 54/100\n",
            "1/1 [==============================] - 1s 1s/step - loss: 4.2670 - accuracy: 0.8750 - val_loss: 12.6987 - val_accuracy: 0.7500\n",
            "Epoch 55/100\n",
            "1/1 [==============================] - 1s 1s/step - loss: 18.3391 - accuracy: 0.6250 - val_loss: 15.7602 - val_accuracy: 0.6875\n",
            "Epoch 56/100\n",
            "1/1 [==============================] - 1s 950ms/step - loss: 0.2591 - accuracy: 0.9375 - val_loss: 2.9572 - val_accuracy: 0.8750\n",
            "Epoch 57/100\n",
            "1/1 [==============================] - 1s 731ms/step - loss: 3.3247e-04 - accuracy: 1.0000 - val_loss: 3.0159 - val_accuracy: 0.9375\n",
            "Epoch 58/100\n",
            "1/1 [==============================] - 1s 704ms/step - loss: 3.3197e-04 - accuracy: 1.0000 - val_loss: 4.6373 - val_accuracy: 0.8750\n",
            "Epoch 59/100\n",
            "1/1 [==============================] - 1s 699ms/step - loss: 3.3153e-04 - accuracy: 1.0000 - val_loss: 0.5996 - val_accuracy: 0.8750\n",
            "Epoch 60/100\n",
            "1/1 [==============================] - 1s 819ms/step - loss: 0.0020 - accuracy: 1.0000 - val_loss: 2.6594 - val_accuracy: 0.8750\n",
            "Epoch 61/100\n",
            "1/1 [==============================] - 1s 817ms/step - loss: 0.0156 - accuracy: 1.0000 - val_loss: 3.0797 - val_accuracy: 0.9375\n",
            "Epoch 62/100\n",
            "1/1 [==============================] - 1s 681ms/step - loss: 0.0011 - accuracy: 1.0000 - val_loss: 3.3018e-04 - val_accuracy: 1.0000\n",
            "Epoch 63/100\n",
            "1/1 [==============================] - 1s 864ms/step - loss: 3.3900e-04 - accuracy: 1.0000 - val_loss: 0.8761 - val_accuracy: 0.9375\n",
            "Epoch 64/100\n",
            "1/1 [==============================] - 1s 691ms/step - loss: 3.2993e-04 - accuracy: 1.0000 - val_loss: 1.2550 - val_accuracy: 0.9375\n",
            "Epoch 65/100\n",
            "1/1 [==============================] - 1s 717ms/step - loss: 4.2072e-04 - accuracy: 1.0000 - val_loss: 3.2958e-04 - val_accuracy: 1.0000\n",
            "Epoch 66/100\n",
            "1/1 [==============================] - 1s 1s/step - loss: 3.2952e-04 - accuracy: 1.0000 - val_loss: 4.8584e-04 - val_accuracy: 1.0000\n",
            "Epoch 67/100\n",
            "1/1 [==============================] - 1s 1s/step - loss: 0.0035 - accuracy: 1.0000 - val_loss: 3.5354e-04 - val_accuracy: 1.0000\n",
            "Epoch 68/100\n",
            "1/1 [==============================] - 1s 1s/step - loss: 5.2198e-04 - accuracy: 1.0000 - val_loss: 3.3944e-04 - val_accuracy: 1.0000\n",
            "Epoch 69/100\n",
            "1/1 [==============================] - 1s 675ms/step - loss: 7.5544 - accuracy: 0.7500 - val_loss: 0.0898 - val_accuracy: 0.9375\n",
            "Epoch 70/100\n",
            "1/1 [==============================] - 1s 694ms/step - loss: 0.0011 - accuracy: 1.0000 - val_loss: 0.6586 - val_accuracy: 0.8750\n",
            "Epoch 71/100\n",
            "1/1 [==============================] - 1s 859ms/step - loss: 0.5872 - accuracy: 0.8750 - val_loss: 0.3071 - val_accuracy: 0.9375\n",
            "Epoch 72/100\n",
            "1/1 [==============================] - 1s 742ms/step - loss: 1.2238 - accuracy: 0.7500 - val_loss: 0.4200 - val_accuracy: 0.8750\n",
            "Epoch 73/100\n",
            "1/1 [==============================] - 1s 686ms/step - loss: 3.4992e-04 - accuracy: 1.0000 - val_loss: 0.6844 - val_accuracy: 0.8750\n",
            "Epoch 74/100\n",
            "1/1 [==============================] - 1s 819ms/step - loss: 0.1576 - accuracy: 0.9375 - val_loss: 0.0511 - val_accuracy: 1.0000\n",
            "Epoch 75/100\n",
            "1/1 [==============================] - 1s 716ms/step - loss: 0.0336 - accuracy: 1.0000 - val_loss: 1.7501 - val_accuracy: 0.8750\n",
            "Epoch 76/100\n",
            "1/1 [==============================] - 1s 715ms/step - loss: 3.3023e-04 - accuracy: 1.0000 - val_loss: 0.2725 - val_accuracy: 0.9375\n",
            "Epoch 77/100\n",
            "1/1 [==============================] - 1s 674ms/step - loss: 0.0010 - accuracy: 1.0000 - val_loss: 0.7764 - val_accuracy: 0.9375\n",
            "Epoch 78/100\n",
            "1/1 [==============================] - 1s 1s/step - loss: 21.4649 - accuracy: 0.8750 - val_loss: 0.0881 - val_accuracy: 0.9375\n",
            "Epoch 79/100\n",
            "1/1 [==============================] - 1s 1s/step - loss: 4.5958e-04 - accuracy: 1.0000 - val_loss: 1.1490 - val_accuracy: 0.9375\n",
            "Epoch 80/100\n",
            "1/1 [==============================] - 1s 1s/step - loss: 3.2729e-04 - accuracy: 1.0000 - val_loss: 0.4496 - val_accuracy: 0.8750\n",
            "Epoch 81/100\n",
            "1/1 [==============================] - 1s 695ms/step - loss: 3.2570e-04 - accuracy: 1.0000 - val_loss: 3.5076e-04 - val_accuracy: 1.0000\n",
            "Epoch 82/100\n",
            "1/1 [==============================] - 1s 684ms/step - loss: 1.7116 - accuracy: 0.7500 - val_loss: 0.9774 - val_accuracy: 0.8750\n",
            "Epoch 83/100\n",
            "1/1 [==============================] - 1s 666ms/step - loss: 0.0032 - accuracy: 1.0000 - val_loss: 0.0037 - val_accuracy: 1.0000\n",
            "Epoch 84/100\n",
            "1/1 [==============================] - 1s 826ms/step - loss: 3.1056 - accuracy: 0.8750 - val_loss: 0.5555 - val_accuracy: 0.9375\n",
            "Epoch 85/100\n",
            "1/1 [==============================] - 1s 814ms/step - loss: 6.6193 - accuracy: 0.8750 - val_loss: 0.5601 - val_accuracy: 0.8750\n"
          ]
        }
      ]
    },
    {
      "cell_type": "code",
      "source": [
        "# For frozen model\n",
        "\n",
        "acc = history.history['accuracy']\n",
        "val_acc = history.history['val_accuracy']\n",
        "\n",
        "loss = history.history['loss']\n",
        "val_loss = history.history['val_loss']\n",
        "\n",
        "epochs_range = range(len(acc))\n",
        "\n",
        "plt.figure(figsize=(10, 4))\n",
        "plt.subplot(1, 2, 1)\n",
        "plt.plot(epochs_range, acc, label='Training Accuracy')\n",
        "plt.plot(epochs_range, val_acc, label='Validation Accuracy')\n",
        "plt.legend(loc='lower right')\n",
        "plt.title(f'Train and Val Accuracy for Unfrozen model')\n",
        "plt.ylabel(\"Accuracy (training and validation)\")\n",
        "plt.xlabel(\"Training Steps\")\n",
        "\n",
        "plt.subplot(1, 2, 2)\n",
        "plt.plot(epochs_range, loss, label='Training Loss')\n",
        "plt.plot(epochs_range, val_loss, label='Validation Loss')\n",
        "plt.legend(loc='upper right')\n",
        "plt.title(f'Train and Val Loss for unfrozen model')\n",
        "plt.ylabel(\"Loss (training and validation)\")\n",
        "plt.xlabel(\"Training Steps\")\n",
        "plt.show()"
      ],
      "metadata": {
        "id": "KgAG9telAGtC",
        "colab": {
          "base_uri": "https://localhost:8080/",
          "height": 295
        },
        "outputId": "318abd22-028e-4e16-f981-1e505d3e334b"
      },
      "execution_count": null,
      "outputs": [
        {
          "output_type": "display_data",
          "data": {
            "text/plain": [
              "<Figure size 720x288 with 2 Axes>"
            ],
            "image/png": "[encoded data removed]"
          },
          "metadata": {
            "needs_background": "light"
          }
        }
      ]
    },
    {
      "cell_type": "code",
      "metadata": {
        "id": "4oWHMV0_Dn4K",
        "colab": {
          "base_uri": "https://localhost:8080/",
          "height": 295
        },
        "outputId": "1514095e-ac5f-4d0e-fc42-8a805df60b9f"
      },
      "source": [
        "# for unfrozen model\n",
        "acc = history.history['accuracy']\n",
        "val_acc = history.history['val_accuracy']\n",
        "\n",
        "loss = history.history['loss']\n",
        "val_loss = history.history['val_loss']\n",
        "\n",
        "epochs_range = range(len(acc))\n",
        "\n",
        "plt.figure(figsize=(10, 4))\n",
        "plt.subplot(1, 2, 1)\n",
        "plt.plot(epochs_range, acc, label='Training Accuracy')\n",
        "plt.plot(epochs_range, val_acc, label='Validation Accuracy')\n",
        "plt.legend(loc='lower right')\n",
        "plt.title(f'Train and Val Accuracy for Unfrozen model')\n",
        "plt.ylabel(\"Accuracy (training and validation)\")\n",
        "plt.xlabel(\"Training Steps\")\n",
        "\n",
        "plt.subplot(1, 2, 2)\n",
        "plt.plot(epochs_range, loss, label='Training Loss')\n",
        "plt.plot(epochs_range, val_loss, label='Validation Loss')\n",
        "plt.legend(loc='upper right')\n",
        "plt.title(f'Train and Val Loss for unfrozen model')\n",
        "plt.ylabel(\"Loss (training and validation)\")\n",
        "plt.xlabel(\"Training Steps\")\n",
        "plt.show()"
      ],
      "execution_count": null,
      "outputs": [
        {
          "output_type": "display_data",
          "data": {
            "text/plain": [
              "<Figure size 720x288 with 2 Axes>"
            ],
            "image/png": "[encoded data removed]"
          },
          "metadata": {
            "needs_background": "light"
          }
        }
      ]
    },
    {
      "cell_type": "code",
      "source": [
        "## For frozen_model\n",
        "\n",
        "prediction = base_model.predict(validation_generator, steps=len(validation_generator))\n",
        "y = np.argmax(prediction, axis=1)\n",
        "\n",
        "print('Classification Report')\n",
        "cr = classification_report(y_true=validation_generator.classes, y_pred=y, target_names=validation_generator.class_indices)\n",
        "print(cr)\n",
        "\n",
        "evaluates = base_model.evaluate(validation_generator)\n",
        "\n",
        "print(evaluates)\n",
        "\n",
        "print('Confusion Matrix')\n",
        "cm = confusion_matrix(validation_generator.classes, y)\n",
        "df = pd.DataFrame(cm, columns=validation_generator.class_indices)\n",
        "plt.figure(figsize=(10,7))\n",
        "sn.heatmap(df, annot=True)"
      ],
      "metadata": {
        "id": "H6xOCnCE8r9D",
        "colab": {
          "base_uri": "https://localhost:8080/",
          "height": 692
        },
        "outputId": "41e6d165-37b2-41e9-cc3a-102e2ce429f8"
      },
      "execution_count": null,
      "outputs": [
        {
          "output_type": "stream",
          "name": "stdout",
          "text": [
            "1/1 [==============================] - 2s 2s/step\n",
            "Classification Report\n",
            "              precision    recall  f1-score   support\n",
            "\n",
            "      benign       0.83      0.62      0.71         8\n",
            "   malignant       0.70      0.88      0.78         8\n",
            "\n",
            "    accuracy                           0.75        16\n",
            "   macro avg       0.77      0.75      0.75        16\n",
            "weighted avg       0.77      0.75      0.75        16\n",
            "\n",
            "1/1 [==============================] - 0s 370ms/step - loss: 15.9020 - accuracy: 0.8125\n",
            "[15.90199089050293, 0.8125]\n",
            "Confusion Matrix\n"
          ]
        },
        {
          "output_type": "execute_result",
          "data": {
            "text/plain": [
              "<matplotlib.axes._subplots.AxesSubplot at 0x7fcc7d5ca100>"
            ]
          },
          "metadata": {},
          "execution_count": 88
        },
        {
          "output_type": "display_data",
          "data": {
            "text/plain": [
              "<Figure size 720x504 with 2 Axes>"
            ],
            "image/png": "[encoded data removed]"
          },
          "metadata": {
            "needs_background": "light"
          }
        }
      ]
    },
    {
      "cell_type": "code",
      "source": [
        "## For unfrozen_model\n",
        "\n",
        "prediction = base_model.predict(validation_generator, steps=len(validation_generator))\n",
        "y = np.argmax(prediction, axis=1)\n",
        "\n",
        "print('Classification Report')\n",
        "cr = classification_report(y_true=validation_generator.classes, y_pred=y, target_names=validation_generator.class_indices)\n",
        "print(cr)\n",
        "\n",
        "evaluates = base_model.evaluate(validation_generator)\n",
        "\n",
        "print(evaluates)\n",
        "\n",
        "print('Confusion Matrix')\n",
        "cm = confusion_matrix(validation_generator.classes, y)\n",
        "df = pd.DataFrame(cm, columns=validation_generator.class_indices)\n",
        "plt.figure(figsize=(10,7))\n",
        "sn.heatmap(df, annot=True)"
      ],
      "metadata": {
        "id": "OzpFIkWHRA1S",
        "colab": {
          "base_uri": "https://localhost:8080/",
          "height": 692
        },
        "outputId": "cc7ea784-32a2-45de-d0f8-6e992200e509"
      },
      "execution_count": null,
      "outputs": [
        {
          "output_type": "stream",
          "name": "stdout",
          "text": [
            "1/1 [==============================] - 0s 283ms/step\n",
            "Classification Report\n",
            "              precision    recall  f1-score   support\n",
            "\n",
            "      benign       1.00      0.88      0.93         8\n",
            "   malignant       0.89      1.00      0.94         8\n",
            "\n",
            "    accuracy                           0.94        16\n",
            "   macro avg       0.94      0.94      0.94        16\n",
            "weighted avg       0.94      0.94      0.94        16\n",
            "\n",
            "1/1 [==============================] - 0s 372ms/step - loss: 1.7053 - accuracy: 0.8750\n",
            "[1.7053134441375732, 0.875]\n",
            "Confusion Matrix\n"
          ]
        },
        {
          "output_type": "execute_result",
          "data": {
            "text/plain": [
              "<matplotlib.axes._subplots.AxesSubplot at 0x7fcbf1fe40d0>"
            ]
          },
          "metadata": {},
          "execution_count": 71
        },
        {
          "output_type": "display_data",
          "data": {
            "text/plain": [
              "<Figure size 720x504 with 2 Axes>"
            ],
            "image/png": "[encoded data removed]"
          },
          "metadata": {
            "needs_background": "light"
          }
        }
      ]
    },
    {
      "cell_type": "code",
      "source": [
        "%reset"
      ],
      "metadata": {
        "colab": {
          "base_uri": "https://localhost:8080/"
        },
        "id": "zfMPMpmq5WXw",
        "outputId": "00067f40-0ca3-47a8-f5f3-247e4fe3ba35"
      },
      "execution_count": null,
      "outputs": [
        {
          "name": "stdout",
          "output_type": "stream",
          "text": [
            "Once deleted, variables cannot be recovered. Proceed (y/[n])? y\n"
          ]
        }
      ]
    },
    {
      "cell_type": "markdown",
      "source": [
        "# Conclusion\n",
        "Unfreezing the model end up having better results. "
      ],
      "metadata": {
        "id": "uv0eM44GM8z3"
      }
    },
    {
      "cell_type": "code",
      "source": [
        "# Conclusion "
      ],
      "metadata": {
        "id": "O_4_kiQHRBId"
      },
      "execution_count": null,
      "outputs": []
    },
    {
      "cell_type": "code",
      "source": [],
      "metadata": {
        "id": "Et0YBoOQ681a"
      },
      "execution_count": null,
      "outputs": []
    }
  ]
}